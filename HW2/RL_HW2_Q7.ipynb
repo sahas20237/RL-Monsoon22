{
 "cells": [
  {
   "cell_type": "code",
   "execution_count": 143,
   "id": "71bb6ef7",
   "metadata": {},
   "outputs": [],
   "source": [
    "import numpy as np"
   ]
  },
  {
   "cell_type": "code",
   "execution_count": 144,
   "id": "ac635bdd",
   "metadata": {},
   "outputs": [],
   "source": [
    "grid = np.zeros((5, 5)) #initializing grid of 5x5\n",
    "policyGrid = [['', '', '', '', ''], #initializing the policy grid of 5x5\n",
    "              ['', '', '', '', ''], \n",
    "              ['', '', '', '', ''], \n",
    "              ['', '', '', '', ''], \n",
    "              ['', '', '', '', '']]\n",
    "gamma = 0.9 #discounting factor"
   ]
  },
  {
   "cell_type": "code",
   "execution_count": 145,
   "id": "f28325a6",
   "metadata": {},
   "outputs": [],
   "source": [
    "for _ in range(1000): #1000 eps ~ infinity\n",
    "    for i in range(5): #iterating over grid\n",
    "        for j in range(5):\n",
    "            #As we need to find the optimal value and policy,\n",
    "            #I take 4 values for 4 actions and 1 default and \n",
    "            # compare them at the last\n",
    "            v = 0 \n",
    "            v1 = 0\n",
    "            v2 = 0\n",
    "            v3 = 0\n",
    "            v4 = 0\n",
    "            \n",
    "            #taking care of special case, v = reward + Y*v[next state]\n",
    "            if i == 0 and j == 1:\n",
    "                v = 10 + gamma*grid[4][1]\n",
    "            elif i == 0 and j == 3:\n",
    "                v = 5 + gamma*grid[2][3]\n",
    "            else:\n",
    "                up = 0\n",
    "                down = 0\n",
    "                right = 0\n",
    "                left = 0\n",
    "\n",
    "                #this is a flag that saves us from going out of the grid\n",
    "                if i > 0:\n",
    "                    up = grid[i-1][j]\n",
    "                if i < 4:\n",
    "                    down = grid[i+1][j]\n",
    "                if j > 0:\n",
    "                    left = grid[i][j-1]\n",
    "                if j < 4:\n",
    "                    right = grid[i][j+1]\n",
    "                \n",
    "                # if we have not gone out of the grid, then v is accordingly the new state\n",
    "                # else we next state is that same state and v is accordingly\n",
    "                if up != 0:\n",
    "                    v1 = 0 + gamma*up\n",
    "                else:\n",
    "                    v1 = -1 + gamma*grid[i][j]\n",
    "\n",
    "                if down != 0:\n",
    "                    v2 = 0 + gamma*down\n",
    "                else:\n",
    "                    v2 = -1 + gamma*grid[i][j]\n",
    "\n",
    "                if left != 0:\n",
    "                    v3 = 0 + gamma*left\n",
    "                else:\n",
    "                    v3 = -1 + gamma*grid[i][j]\n",
    "\n",
    "                if right != 0:\n",
    "                    v4 = 0 + gamma*right\n",
    "                else:\n",
    "                    v4 = -1 + gamma*grid[i][j]\n",
    "            \n",
    "            #Comparing all values and getting the optimal one\n",
    "            L = [v1, v2, v3, v4, v]\n",
    "            temp = max(L)\n",
    "            \n",
    "            #Calculating the right arrows for optimal policy\n",
    "            arrow = 'A' #set default A (= ALL) for the special case\n",
    "            if temp == v1:\n",
    "                arrow = '^'\n",
    "            if temp == v2:\n",
    "                arrow = 'V'\n",
    "            if temp == v3:\n",
    "                arrow = '<'\n",
    "            if temp == v4:\n",
    "                arrow = '>'\n",
    "                \n",
    "            grid[i][j] = temp #putting the value into the grid\n",
    "            policyGrid[i][j] = arrow #putting the actions into policy grid"
   ]
  },
  {
   "cell_type": "code",
   "execution_count": 146,
   "id": "9074ba48",
   "metadata": {},
   "outputs": [
    {
     "name": "stdout",
     "output_type": "stream",
     "text": [
      "[[22.  24.4 22.  19.4 17.5]\n",
      " [19.8 22.  19.8 17.8 16. ]\n",
      " [17.8 19.8 17.8 16.  14.4]\n",
      " [16.  17.8 16.  14.4 13. ]\n",
      " [14.4 16.  14.4 13.  11.7]]\n",
      "> A < A < \n",
      "> ^ < < < \n",
      "> ^ < < < \n",
      "> ^ < < < \n",
      "> ^ < < < \n"
     ]
    }
   ],
   "source": [
    "grid = np.round(grid, 1)\n",
    "print(grid)\n",
    "for a in range(len(policyGrid)):\n",
    "    for b in range(len(policyGrid[0])):\n",
    "        print(policyGrid[a][b], end = \" \")\n",
    "    print()"
   ]
  },
  {
   "cell_type": "code",
   "execution_count": null,
   "id": "82e0a065",
   "metadata": {},
   "outputs": [],
   "source": []
  }
 ],
 "metadata": {
  "kernelspec": {
   "display_name": "Python 3 (ipykernel)",
   "language": "python",
   "name": "python3"
  },
  "language_info": {
   "codemirror_mode": {
    "name": "ipython",
    "version": 3
   },
   "file_extension": ".py",
   "mimetype": "text/x-python",
   "name": "python",
   "nbconvert_exporter": "python",
   "pygments_lexer": "ipython3",
   "version": "3.9.12"
  }
 },
 "nbformat": 4,
 "nbformat_minor": 5
}
