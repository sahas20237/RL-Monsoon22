{
 "cells": [
  {
   "cell_type": "code",
   "execution_count": 58,
   "id": "4ff86ac1",
   "metadata": {},
   "outputs": [],
   "source": [
    "import numpy as np"
   ]
  },
  {
   "cell_type": "code",
   "execution_count": 59,
   "id": "68581aab",
   "metadata": {},
   "outputs": [],
   "source": [
    "grid = np.zeros((5, 5)) #initializing grid of 5x5\n",
    "gamma = 0.9 #discounting factor"
   ]
  },
  {
   "cell_type": "code",
   "execution_count": 60,
   "id": "1b25e2c1",
   "metadata": {},
   "outputs": [],
   "source": [
    "for _ in range(1000): #1000 eps ~ infinity\n",
    "    for i in range(5): #iterating over grid\n",
    "        for j in range(5):\n",
    "            v = 0 #value function initialized\n",
    "            \n",
    "            #taking care of special case, v = reward + Y*v[next state]\n",
    "            if i == 0 and j == 1:\n",
    "                v = 10 + gamma*grid[4][1]\n",
    "            elif i == 0 and j == 3:\n",
    "                v = 5 + gamma*grid[2][3]\n",
    "            else:\n",
    "                up = 0\n",
    "                down = 0\n",
    "                right = 0\n",
    "                left = 0\n",
    "\n",
    "                #this is a flag that saves us from going out of the grid\n",
    "                if i > 0:\n",
    "                    up = grid[i-1][j] \n",
    "                if i < 4:\n",
    "                    down = grid[i+1][j]\n",
    "                if j > 0:\n",
    "                    left = grid[i][j-1]\n",
    "                if j < 4:\n",
    "                    right = grid[i][j+1]\n",
    "\n",
    "                # if we have not gone out of the grid, then v is accordingly the new state\n",
    "                # else we next state is that same state and v is accordingly\n",
    "                if up != 0:\n",
    "                    v += 0.25*(0 + gamma*up)\n",
    "                else:\n",
    "                    v += 0.25*(-1 + gamma*grid[i][j])\n",
    "\n",
    "                if down != 0:\n",
    "                    v += 0.25*(0 + gamma*down)\n",
    "                else:\n",
    "                    v += 0.25*(-1 + gamma*grid[i][j])\n",
    "\n",
    "                if left != 0:\n",
    "                    v += 0.25*(0 + gamma*left)\n",
    "                else:\n",
    "                    v += 0.25*(-1 + gamma*grid[i][j])\n",
    "\n",
    "                if right != 0:\n",
    "                    v += 0.25*(0 + gamma*right)\n",
    "                else:\n",
    "                    v += 0.25*(-1 + gamma*grid[i][j])\n",
    "\n",
    "            grid[i][j] = v #putting the value into the grid"
   ]
  },
  {
   "cell_type": "code",
   "execution_count": 61,
   "id": "9e590eec",
   "metadata": {},
   "outputs": [
    {
     "name": "stdout",
     "output_type": "stream",
     "text": [
      "[[ 3.3  8.8  4.4  5.3  1.5]\n",
      " [ 1.5  3.   2.3  1.9  0.5]\n",
      " [ 0.1  0.7  0.7  0.4 -0.4]\n",
      " [-1.  -0.4 -0.4 -0.6 -1.2]\n",
      " [-1.9 -1.3 -1.2 -1.4 -2. ]]\n"
     ]
    }
   ],
   "source": [
    "grid = np.round(grid, 1)\n",
    "print(grid)"
   ]
  },
  {
   "cell_type": "code",
   "execution_count": null,
   "id": "61a47712",
   "metadata": {},
   "outputs": [],
   "source": []
  }
 ],
 "metadata": {
  "kernelspec": {
   "display_name": "Python 3 (ipykernel)",
   "language": "python",
   "name": "python3"
  },
  "language_info": {
   "codemirror_mode": {
    "name": "ipython",
    "version": 3
   },
   "file_extension": ".py",
   "mimetype": "text/x-python",
   "name": "python",
   "nbconvert_exporter": "python",
   "pygments_lexer": "ipython3",
   "version": "3.9.12"
  }
 },
 "nbformat": 4,
 "nbformat_minor": 5
}
